{
 "cells": [
  {
   "cell_type": "code",
   "execution_count": 1,
   "id": "7d195f3b",
   "metadata": {},
   "outputs": [],
   "source": [
    "import pickle\n"
   ]
  },
  {
   "cell_type": "code",
   "execution_count": 2,
   "id": "2bbbdf5e",
   "metadata": {},
   "outputs": [],
   "source": [
    "class StrToBytes:\n",
    "    def __init__(self, fileobj):\n",
    "        self.fileobj = fileobj\n",
    "\n",
    "    def read(self, size):\n",
    "        return self.fileobj.read(size).encode()\n",
    "\n",
    "    def readline(self, size=-1):\n",
    "        return self.fileobj.readline(size).encode()"
   ]
  },
  {
   "cell_type": "code",
   "execution_count": 3,
   "id": "a86ce0a4",
   "metadata": {},
   "outputs": [],
   "source": [
    "read = open(\"word_embedding.pickle\", 'r')\n",
    "data = pickle.load(StrToBytes(read), encoding='iso-8859-1')\n",
    "with open('word_embedding.pickle_1', 'wb') as f:\n",
    "    f.write(pickle.dumps(data))"
   ]
  },
  {
   "cell_type": "code",
   "execution_count": 4,
   "id": "45695476",
   "metadata": {},
   "outputs": [],
   "source": [
    "read = open(\"train_id.pickle\", 'r')\n",
    "data = pickle.load(StrToBytes(read), encoding='iso-8859-1')\n",
    "with open('train_id.pickle_1', 'wb') as f:\n",
    "    f.write(pickle.dumps(data))"
   ]
  },
  {
   "cell_type": "code",
   "execution_count": 5,
   "id": "749269e5",
   "metadata": {},
   "outputs": [],
   "source": [
    "read = open(\"validate_id.pickle\", 'r')\n",
    "data = pickle.load(StrToBytes(read), encoding='iso-8859-1')\n",
    "with open('validate_id.pickle_1', 'wb') as f:\n",
    "    f.write(pickle.dumps(data))"
   ]
  },
  {
   "cell_type": "code",
   "execution_count": 6,
   "id": "eea8eb19",
   "metadata": {},
   "outputs": [],
   "source": [
    "read = open(\"w2v.pickle\", 'r')\n",
    "data = pickle.load(StrToBytes(read), encoding='iso-8859-1')\n",
    "with open('w2v.pickle_1', 'wb') as f:\n",
    "    f.write(pickle.dumps(data))"
   ]
  },
  {
   "cell_type": "code",
   "execution_count": 7,
   "id": "f25e4420",
   "metadata": {},
   "outputs": [],
   "source": [
    "read = open(\"test_id.pickle\", 'r')\n",
    "data = pickle.load(StrToBytes(read), encoding='iso-8859-1')\n",
    "with open('test_id.pickle_1', 'wb') as f:\n",
    "    f.write(pickle.dumps(data))"
   ]
  },
  {
   "cell_type": "code",
   "execution_count": null,
   "id": "d622382f",
   "metadata": {},
   "outputs": [],
   "source": []
  }
 ],
 "metadata": {
  "kernelspec": {
   "display_name": "Python 3 (ipykernel)",
   "language": "python",
   "name": "python3"
  },
  "language_info": {
   "codemirror_mode": {
    "name": "ipython",
    "version": 3
   },
   "file_extension": ".py",
   "mimetype": "text/x-python",
   "name": "python",
   "nbconvert_exporter": "python",
   "pygments_lexer": "ipython3",
   "version": "3.11.5"
  }
 },
 "nbformat": 4,
 "nbformat_minor": 5
}
